{
 "cells": [
  {
   "cell_type": "code",
   "execution_count": 1,
   "metadata": {},
   "outputs": [],
   "source": [
    "import os\n",
    "from typing import Optional\n",
    "\n",
    "# os.environ['OPEN_AI_KEY'] = 'sk-...'\n",
    "\n",
    "from utils import *"
   ]
  },
  {
   "cell_type": "markdown",
   "metadata": {},
   "source": [
    "## 2.1 Sentence Embeddings\n",
    "\n",
    "We can visualize how adding a word to a sentence changes the embedding."
   ]
  },
  {
   "cell_type": "code",
   "execution_count": 2,
   "metadata": {},
   "outputs": [
    {
     "name": "stdout",
     "output_type": "stream",
     "text": [
      "Partial sentence: Actuaries\n",
      "Partial sentence: Actuaries fly\n",
      "Partial sentence: Actuaries fly to\n",
      "Partial sentence: Actuaries fly to CAS\n",
      "Partial sentence: Actuaries fly to CAS conferences\n",
      "Partial sentence: Actuaries fly to CAS conferences to\n",
      "Partial sentence: Actuaries fly to CAS conferences to learn\n",
      "Partial sentence: Actuaries fly to CAS conferences to learn about\n",
      "Partial sentence: Actuaries fly to CAS conferences to learn about new\n"
     ]
    }
   ],
   "source": [
    "sentence = \"Actuaries fly to CAS conferences to learn about new techniques\"\n",
    "\n",
    "graph = create_new_graph()\n",
    "color_scale = [\n",
    "    \"#E6E6FA\",  # Lavender\n",
    "    \"#D8BFD8\",  # Thistle\n",
    "    \"#DDA0DD\",  # Plum\n",
    "    \"#DA70D6\",  # Orchid\n",
    "    \"#BA55D3\",  # Medium Orchid\n",
    "    \"#9932CC\",  # Dark Orchid\n",
    "    \"#9400D3\",  # Dark Violet\n",
    "    \"#8A2BE2\",  # Blue Violet\n",
    "    \"#800080\",  # Purple\n",
    "    \"#4B0082\",  # Indigo\n",
    "]  # each one is progressively darker\n",
    "\n",
    "words = sentence.split()\n",
    "\n",
    "# Start from 1 to handle color scaling\n",
    "for ix, word in enumerate(words[1:], 1):\n",
    "    partial_sentence = \" \".join(words[:ix])\n",
    "    print(f\"Partial sentence: {partial_sentence}\")\n",
    "\n",
    "    vector = get_embedding(partial_sentence, dimensions=3)\n",
    "\n",
    "    add_vector_to_graph(graph, vector, name=partial_sentence, color=color_scale[ix])"
   ]
  },
  {
   "cell_type": "code",
   "execution_count": 3,
   "metadata": {},
   "outputs": [
    {
     "data": {
      "application/vnd.plotly.v1+json": {
       "config": {
        "plotlyServerURL": "https://plot.ly"
       },
       "data": [
        {
         "marker": {
          "color": "black",
          "size": 6,
          "symbol": "circle"
         },
         "mode": "markers",
         "name": "Origin",
         "type": "scatter3d",
         "x": [
          0
         ],
         "y": [
          0
         ],
         "z": [
          0
         ]
        },
        {
         "line": {
          "color": "#D8BFD8",
          "width": 5
         },
         "mode": "lines",
         "name": "Actuaries",
         "type": "scatter3d",
         "x": [
          0,
          0.35246795415878296
         ],
         "y": [
          0,
          0.027823947370052338
         ],
         "z": [
          0,
          0.9354101419448853
         ]
        },
        {
         "colorscale": [
          [
           0,
           "#D8BFD8"
          ],
          [
           1,
           "#D8BFD8"
          ]
         ],
         "hoverinfo": "none",
         "showscale": false,
         "sizemode": "scaled",
         "sizeref": 0.1,
         "type": "cone",
         "u": [
          0.35246795415878296
         ],
         "v": [
          0.027823947370052338
         ],
         "w": [
          0.9354101419448853
         ],
         "x": [
          0.35246795415878296
         ],
         "y": [
          0.027823947370052338
         ],
         "z": [
          0.9354101419448853
         ]
        },
        {
         "line": {
          "color": "#DDA0DD",
          "width": 5
         },
         "mode": "lines",
         "name": "Actuaries fly",
         "type": "scatter3d",
         "x": [
          0,
          -0.15267223119735718
         ],
         "y": [
          0,
          0.6939278244972229
         ],
         "z": [
          0,
          0.7036728262901306
         ]
        },
        {
         "colorscale": [
          [
           0,
           "#DDA0DD"
          ],
          [
           1,
           "#DDA0DD"
          ]
         ],
         "hoverinfo": "none",
         "showscale": false,
         "sizemode": "scaled",
         "sizeref": 0.1,
         "type": "cone",
         "u": [
          -0.15267223119735718
         ],
         "v": [
          0.6939278244972229
         ],
         "w": [
          0.7036728262901306
         ],
         "x": [
          -0.15267223119735718
         ],
         "y": [
          0.6939278244972229
         ],
         "z": [
          0.7036728262901306
         ]
        },
        {
         "line": {
          "color": "#DA70D6",
          "width": 5
         },
         "mode": "lines",
         "name": "Actuaries fly to",
         "type": "scatter3d",
         "x": [
          0,
          -0.23755455017089844
         ],
         "y": [
          0,
          0.4056805670261383
         ],
         "z": [
          0,
          0.8826047778129578
         ]
        },
        {
         "colorscale": [
          [
           0,
           "#DA70D6"
          ],
          [
           1,
           "#DA70D6"
          ]
         ],
         "hoverinfo": "none",
         "showscale": false,
         "sizemode": "scaled",
         "sizeref": 0.1,
         "type": "cone",
         "u": [
          -0.23755455017089844
         ],
         "v": [
          0.4056805670261383
         ],
         "w": [
          0.8826047778129578
         ],
         "x": [
          -0.23755455017089844
         ],
         "y": [
          0.4056805670261383
         ],
         "z": [
          0.8826047778129578
         ]
        },
        {
         "line": {
          "color": "#BA55D3",
          "width": 5
         },
         "mode": "lines",
         "name": "Actuaries fly to CAS",
         "type": "scatter3d",
         "x": [
          0,
          0.06735169887542725
         ],
         "y": [
          0,
          0.3447474241256714
         ],
         "z": [
          0,
          0.9362761378288269
         ]
        },
        {
         "colorscale": [
          [
           0,
           "#BA55D3"
          ],
          [
           1,
           "#BA55D3"
          ]
         ],
         "hoverinfo": "none",
         "showscale": false,
         "sizemode": "scaled",
         "sizeref": 0.1,
         "type": "cone",
         "u": [
          0.06735169887542725
         ],
         "v": [
          0.3447474241256714
         ],
         "w": [
          0.9362761378288269
         ],
         "x": [
          0.06735169887542725
         ],
         "y": [
          0.3447474241256714
         ],
         "z": [
          0.9362761378288269
         ]
        },
        {
         "line": {
          "color": "#9932CC",
          "width": 5
         },
         "mode": "lines",
         "name": "Actuaries fly to CAS conferences",
         "type": "scatter3d",
         "x": [
          0,
          -0.017414137721061707
         ],
         "y": [
          0,
          0.06633957475423813
         ],
         "z": [
          0,
          0.9976451396942139
         ]
        },
        {
         "colorscale": [
          [
           0,
           "#9932CC"
          ],
          [
           1,
           "#9932CC"
          ]
         ],
         "hoverinfo": "none",
         "showscale": false,
         "sizemode": "scaled",
         "sizeref": 0.1,
         "type": "cone",
         "u": [
          -0.017414137721061707
         ],
         "v": [
          0.06633957475423813
         ],
         "w": [
          0.9976451396942139
         ],
         "x": [
          -0.017414137721061707
         ],
         "y": [
          0.06633957475423813
         ],
         "z": [
          0.9976451396942139
         ]
        },
        {
         "line": {
          "color": "#9400D3",
          "width": 5
         },
         "mode": "lines",
         "name": "Actuaries fly to CAS conferences to",
         "type": "scatter3d",
         "x": [
          0,
          0.1490100771188736
         ],
         "y": [
          0,
          0.10707121342420578
         ],
         "z": [
          0,
          0.9830217361450195
         ]
        },
        {
         "colorscale": [
          [
           0,
           "#9400D3"
          ],
          [
           1,
           "#9400D3"
          ]
         ],
         "hoverinfo": "none",
         "showscale": false,
         "sizemode": "scaled",
         "sizeref": 0.1,
         "type": "cone",
         "u": [
          0.1490100771188736
         ],
         "v": [
          0.10707121342420578
         ],
         "w": [
          0.9830217361450195
         ],
         "x": [
          0.1490100771188736
         ],
         "y": [
          0.10707121342420578
         ],
         "z": [
          0.9830217361450195
         ]
        },
        {
         "line": {
          "color": "#8A2BE2",
          "width": 5
         },
         "mode": "lines",
         "name": "Actuaries fly to CAS conferences to learn",
         "type": "scatter3d",
         "x": [
          0,
          -0.030584119260311127
         ],
         "y": [
          0,
          -0.07841774076223373
         ],
         "z": [
          0,
          0.9964513182640076
         ]
        },
        {
         "colorscale": [
          [
           0,
           "#8A2BE2"
          ],
          [
           1,
           "#8A2BE2"
          ]
         ],
         "hoverinfo": "none",
         "showscale": false,
         "sizemode": "scaled",
         "sizeref": 0.1,
         "type": "cone",
         "u": [
          -0.030584119260311127
         ],
         "v": [
          -0.07841774076223373
         ],
         "w": [
          0.9964513182640076
         ],
         "x": [
          -0.030584119260311127
         ],
         "y": [
          -0.07841774076223373
         ],
         "z": [
          0.9964513182640076
         ]
        },
        {
         "line": {
          "color": "#800080",
          "width": 5
         },
         "mode": "lines",
         "name": "Actuaries fly to CAS conferences to learn about",
         "type": "scatter3d",
         "x": [
          0,
          0.04997067525982857
         ],
         "y": [
          0,
          -0.09461496025323868
         ],
         "z": [
          0,
          0.9942589402198792
         ]
        },
        {
         "colorscale": [
          [
           0,
           "#800080"
          ],
          [
           1,
           "#800080"
          ]
         ],
         "hoverinfo": "none",
         "showscale": false,
         "sizemode": "scaled",
         "sizeref": 0.1,
         "type": "cone",
         "u": [
          0.04997067525982857
         ],
         "v": [
          -0.09461496025323868
         ],
         "w": [
          0.9942589402198792
         ],
         "x": [
          0.04997067525982857
         ],
         "y": [
          -0.09461496025323868
         ],
         "z": [
          0.9942589402198792
         ]
        },
        {
         "line": {
          "color": "#4B0082",
          "width": 5
         },
         "mode": "lines",
         "name": "Actuaries fly to CAS conferences to learn about new",
         "type": "scatter3d",
         "x": [
          0,
          0.1580248475074768
         ],
         "y": [
          0,
          -0.20795750617980957
         ],
         "z": [
          0,
          0.9652884602546692
         ]
        },
        {
         "colorscale": [
          [
           0,
           "#4B0082"
          ],
          [
           1,
           "#4B0082"
          ]
         ],
         "hoverinfo": "none",
         "showscale": false,
         "sizemode": "scaled",
         "sizeref": 0.1,
         "type": "cone",
         "u": [
          0.1580248475074768
         ],
         "v": [
          -0.20795750617980957
         ],
         "w": [
          0.9652884602546692
         ],
         "x": [
          0.1580248475074768
         ],
         "y": [
          -0.20795750617980957
         ],
         "z": [
          0.9652884602546692
         ]
        }
       ],
       "layout": {
        "scene": {
         "aspectmode": "cube",
         "camera": {
          "center": {
           "x": 0,
           "y": 0,
           "z": 0
          },
          "eye": {
           "x": 1.5,
           "y": 1.5,
           "z": 0.5
          },
          "up": {
           "x": 0,
           "y": 0,
           "z": 1
          }
         }
        },
        "template": {
         "data": {
          "bar": [
           {
            "error_x": {
             "color": "#2a3f5f"
            },
            "error_y": {
             "color": "#2a3f5f"
            },
            "marker": {
             "line": {
              "color": "#E5ECF6",
              "width": 0.5
             },
             "pattern": {
              "fillmode": "overlay",
              "size": 10,
              "solidity": 0.2
             }
            },
            "type": "bar"
           }
          ],
          "barpolar": [
           {
            "marker": {
             "line": {
              "color": "#E5ECF6",
              "width": 0.5
             },
             "pattern": {
              "fillmode": "overlay",
              "size": 10,
              "solidity": 0.2
             }
            },
            "type": "barpolar"
           }
          ],
          "carpet": [
           {
            "aaxis": {
             "endlinecolor": "#2a3f5f",
             "gridcolor": "white",
             "linecolor": "white",
             "minorgridcolor": "white",
             "startlinecolor": "#2a3f5f"
            },
            "baxis": {
             "endlinecolor": "#2a3f5f",
             "gridcolor": "white",
             "linecolor": "white",
             "minorgridcolor": "white",
             "startlinecolor": "#2a3f5f"
            },
            "type": "carpet"
           }
          ],
          "choropleth": [
           {
            "colorbar": {
             "outlinewidth": 0,
             "ticks": ""
            },
            "type": "choropleth"
           }
          ],
          "contour": [
           {
            "colorbar": {
             "outlinewidth": 0,
             "ticks": ""
            },
            "colorscale": [
             [
              0,
              "#0d0887"
             ],
             [
              0.1111111111111111,
              "#46039f"
             ],
             [
              0.2222222222222222,
              "#7201a8"
             ],
             [
              0.3333333333333333,
              "#9c179e"
             ],
             [
              0.4444444444444444,
              "#bd3786"
             ],
             [
              0.5555555555555556,
              "#d8576b"
             ],
             [
              0.6666666666666666,
              "#ed7953"
             ],
             [
              0.7777777777777778,
              "#fb9f3a"
             ],
             [
              0.8888888888888888,
              "#fdca26"
             ],
             [
              1,
              "#f0f921"
             ]
            ],
            "type": "contour"
           }
          ],
          "contourcarpet": [
           {
            "colorbar": {
             "outlinewidth": 0,
             "ticks": ""
            },
            "type": "contourcarpet"
           }
          ],
          "heatmap": [
           {
            "colorbar": {
             "outlinewidth": 0,
             "ticks": ""
            },
            "colorscale": [
             [
              0,
              "#0d0887"
             ],
             [
              0.1111111111111111,
              "#46039f"
             ],
             [
              0.2222222222222222,
              "#7201a8"
             ],
             [
              0.3333333333333333,
              "#9c179e"
             ],
             [
              0.4444444444444444,
              "#bd3786"
             ],
             [
              0.5555555555555556,
              "#d8576b"
             ],
             [
              0.6666666666666666,
              "#ed7953"
             ],
             [
              0.7777777777777778,
              "#fb9f3a"
             ],
             [
              0.8888888888888888,
              "#fdca26"
             ],
             [
              1,
              "#f0f921"
             ]
            ],
            "type": "heatmap"
           }
          ],
          "heatmapgl": [
           {
            "colorbar": {
             "outlinewidth": 0,
             "ticks": ""
            },
            "colorscale": [
             [
              0,
              "#0d0887"
             ],
             [
              0.1111111111111111,
              "#46039f"
             ],
             [
              0.2222222222222222,
              "#7201a8"
             ],
             [
              0.3333333333333333,
              "#9c179e"
             ],
             [
              0.4444444444444444,
              "#bd3786"
             ],
             [
              0.5555555555555556,
              "#d8576b"
             ],
             [
              0.6666666666666666,
              "#ed7953"
             ],
             [
              0.7777777777777778,
              "#fb9f3a"
             ],
             [
              0.8888888888888888,
              "#fdca26"
             ],
             [
              1,
              "#f0f921"
             ]
            ],
            "type": "heatmapgl"
           }
          ],
          "histogram": [
           {
            "marker": {
             "pattern": {
              "fillmode": "overlay",
              "size": 10,
              "solidity": 0.2
             }
            },
            "type": "histogram"
           }
          ],
          "histogram2d": [
           {
            "colorbar": {
             "outlinewidth": 0,
             "ticks": ""
            },
            "colorscale": [
             [
              0,
              "#0d0887"
             ],
             [
              0.1111111111111111,
              "#46039f"
             ],
             [
              0.2222222222222222,
              "#7201a8"
             ],
             [
              0.3333333333333333,
              "#9c179e"
             ],
             [
              0.4444444444444444,
              "#bd3786"
             ],
             [
              0.5555555555555556,
              "#d8576b"
             ],
             [
              0.6666666666666666,
              "#ed7953"
             ],
             [
              0.7777777777777778,
              "#fb9f3a"
             ],
             [
              0.8888888888888888,
              "#fdca26"
             ],
             [
              1,
              "#f0f921"
             ]
            ],
            "type": "histogram2d"
           }
          ],
          "histogram2dcontour": [
           {
            "colorbar": {
             "outlinewidth": 0,
             "ticks": ""
            },
            "colorscale": [
             [
              0,
              "#0d0887"
             ],
             [
              0.1111111111111111,
              "#46039f"
             ],
             [
              0.2222222222222222,
              "#7201a8"
             ],
             [
              0.3333333333333333,
              "#9c179e"
             ],
             [
              0.4444444444444444,
              "#bd3786"
             ],
             [
              0.5555555555555556,
              "#d8576b"
             ],
             [
              0.6666666666666666,
              "#ed7953"
             ],
             [
              0.7777777777777778,
              "#fb9f3a"
             ],
             [
              0.8888888888888888,
              "#fdca26"
             ],
             [
              1,
              "#f0f921"
             ]
            ],
            "type": "histogram2dcontour"
           }
          ],
          "mesh3d": [
           {
            "colorbar": {
             "outlinewidth": 0,
             "ticks": ""
            },
            "type": "mesh3d"
           }
          ],
          "parcoords": [
           {
            "line": {
             "colorbar": {
              "outlinewidth": 0,
              "ticks": ""
             }
            },
            "type": "parcoords"
           }
          ],
          "pie": [
           {
            "automargin": true,
            "type": "pie"
           }
          ],
          "scatter": [
           {
            "fillpattern": {
             "fillmode": "overlay",
             "size": 10,
             "solidity": 0.2
            },
            "type": "scatter"
           }
          ],
          "scatter3d": [
           {
            "line": {
             "colorbar": {
              "outlinewidth": 0,
              "ticks": ""
             }
            },
            "marker": {
             "colorbar": {
              "outlinewidth": 0,
              "ticks": ""
             }
            },
            "type": "scatter3d"
           }
          ],
          "scattercarpet": [
           {
            "marker": {
             "colorbar": {
              "outlinewidth": 0,
              "ticks": ""
             }
            },
            "type": "scattercarpet"
           }
          ],
          "scattergeo": [
           {
            "marker": {
             "colorbar": {
              "outlinewidth": 0,
              "ticks": ""
             }
            },
            "type": "scattergeo"
           }
          ],
          "scattergl": [
           {
            "marker": {
             "colorbar": {
              "outlinewidth": 0,
              "ticks": ""
             }
            },
            "type": "scattergl"
           }
          ],
          "scattermapbox": [
           {
            "marker": {
             "colorbar": {
              "outlinewidth": 0,
              "ticks": ""
             }
            },
            "type": "scattermapbox"
           }
          ],
          "scatterpolar": [
           {
            "marker": {
             "colorbar": {
              "outlinewidth": 0,
              "ticks": ""
             }
            },
            "type": "scatterpolar"
           }
          ],
          "scatterpolargl": [
           {
            "marker": {
             "colorbar": {
              "outlinewidth": 0,
              "ticks": ""
             }
            },
            "type": "scatterpolargl"
           }
          ],
          "scatterternary": [
           {
            "marker": {
             "colorbar": {
              "outlinewidth": 0,
              "ticks": ""
             }
            },
            "type": "scatterternary"
           }
          ],
          "surface": [
           {
            "colorbar": {
             "outlinewidth": 0,
             "ticks": ""
            },
            "colorscale": [
             [
              0,
              "#0d0887"
             ],
             [
              0.1111111111111111,
              "#46039f"
             ],
             [
              0.2222222222222222,
              "#7201a8"
             ],
             [
              0.3333333333333333,
              "#9c179e"
             ],
             [
              0.4444444444444444,
              "#bd3786"
             ],
             [
              0.5555555555555556,
              "#d8576b"
             ],
             [
              0.6666666666666666,
              "#ed7953"
             ],
             [
              0.7777777777777778,
              "#fb9f3a"
             ],
             [
              0.8888888888888888,
              "#fdca26"
             ],
             [
              1,
              "#f0f921"
             ]
            ],
            "type": "surface"
           }
          ],
          "table": [
           {
            "cells": {
             "fill": {
              "color": "#EBF0F8"
             },
             "line": {
              "color": "white"
             }
            },
            "header": {
             "fill": {
              "color": "#C8D4E3"
             },
             "line": {
              "color": "white"
             }
            },
            "type": "table"
           }
          ]
         },
         "layout": {
          "annotationdefaults": {
           "arrowcolor": "#2a3f5f",
           "arrowhead": 0,
           "arrowwidth": 1
          },
          "autotypenumbers": "strict",
          "coloraxis": {
           "colorbar": {
            "outlinewidth": 0,
            "ticks": ""
           }
          },
          "colorscale": {
           "diverging": [
            [
             0,
             "#8e0152"
            ],
            [
             0.1,
             "#c51b7d"
            ],
            [
             0.2,
             "#de77ae"
            ],
            [
             0.3,
             "#f1b6da"
            ],
            [
             0.4,
             "#fde0ef"
            ],
            [
             0.5,
             "#f7f7f7"
            ],
            [
             0.6,
             "#e6f5d0"
            ],
            [
             0.7,
             "#b8e186"
            ],
            [
             0.8,
             "#7fbc41"
            ],
            [
             0.9,
             "#4d9221"
            ],
            [
             1,
             "#276419"
            ]
           ],
           "sequential": [
            [
             0,
             "#0d0887"
            ],
            [
             0.1111111111111111,
             "#46039f"
            ],
            [
             0.2222222222222222,
             "#7201a8"
            ],
            [
             0.3333333333333333,
             "#9c179e"
            ],
            [
             0.4444444444444444,
             "#bd3786"
            ],
            [
             0.5555555555555556,
             "#d8576b"
            ],
            [
             0.6666666666666666,
             "#ed7953"
            ],
            [
             0.7777777777777778,
             "#fb9f3a"
            ],
            [
             0.8888888888888888,
             "#fdca26"
            ],
            [
             1,
             "#f0f921"
            ]
           ],
           "sequentialminus": [
            [
             0,
             "#0d0887"
            ],
            [
             0.1111111111111111,
             "#46039f"
            ],
            [
             0.2222222222222222,
             "#7201a8"
            ],
            [
             0.3333333333333333,
             "#9c179e"
            ],
            [
             0.4444444444444444,
             "#bd3786"
            ],
            [
             0.5555555555555556,
             "#d8576b"
            ],
            [
             0.6666666666666666,
             "#ed7953"
            ],
            [
             0.7777777777777778,
             "#fb9f3a"
            ],
            [
             0.8888888888888888,
             "#fdca26"
            ],
            [
             1,
             "#f0f921"
            ]
           ]
          },
          "colorway": [
           "#636efa",
           "#EF553B",
           "#00cc96",
           "#ab63fa",
           "#FFA15A",
           "#19d3f3",
           "#FF6692",
           "#B6E880",
           "#FF97FF",
           "#FECB52"
          ],
          "font": {
           "color": "#2a3f5f"
          },
          "geo": {
           "bgcolor": "white",
           "lakecolor": "white",
           "landcolor": "#E5ECF6",
           "showlakes": true,
           "showland": true,
           "subunitcolor": "white"
          },
          "hoverlabel": {
           "align": "left"
          },
          "hovermode": "closest",
          "mapbox": {
           "style": "light"
          },
          "paper_bgcolor": "white",
          "plot_bgcolor": "#E5ECF6",
          "polar": {
           "angularaxis": {
            "gridcolor": "white",
            "linecolor": "white",
            "ticks": ""
           },
           "bgcolor": "#E5ECF6",
           "radialaxis": {
            "gridcolor": "white",
            "linecolor": "white",
            "ticks": ""
           }
          },
          "scene": {
           "xaxis": {
            "backgroundcolor": "#E5ECF6",
            "gridcolor": "white",
            "gridwidth": 2,
            "linecolor": "white",
            "showbackground": true,
            "ticks": "",
            "zerolinecolor": "white"
           },
           "yaxis": {
            "backgroundcolor": "#E5ECF6",
            "gridcolor": "white",
            "gridwidth": 2,
            "linecolor": "white",
            "showbackground": true,
            "ticks": "",
            "zerolinecolor": "white"
           },
           "zaxis": {
            "backgroundcolor": "#E5ECF6",
            "gridcolor": "white",
            "gridwidth": 2,
            "linecolor": "white",
            "showbackground": true,
            "ticks": "",
            "zerolinecolor": "white"
           }
          },
          "shapedefaults": {
           "line": {
            "color": "#2a3f5f"
           }
          },
          "ternary": {
           "aaxis": {
            "gridcolor": "white",
            "linecolor": "white",
            "ticks": ""
           },
           "baxis": {
            "gridcolor": "white",
            "linecolor": "white",
            "ticks": ""
           },
           "bgcolor": "#E5ECF6",
           "caxis": {
            "gridcolor": "white",
            "linecolor": "white",
            "ticks": ""
           }
          },
          "title": {
           "x": 0.05
          },
          "xaxis": {
           "automargin": true,
           "gridcolor": "white",
           "linecolor": "white",
           "ticks": "",
           "title": {
            "standoff": 15
           },
           "zerolinecolor": "white",
           "zerolinewidth": 2
          },
          "yaxis": {
           "automargin": true,
           "gridcolor": "white",
           "linecolor": "white",
           "ticks": "",
           "title": {
            "standoff": 15
           },
           "zerolinecolor": "white",
           "zerolinewidth": 2
          }
         }
        }
       }
      }
     },
     "metadata": {},
     "output_type": "display_data"
    }
   ],
   "source": [
    "# Notice how adding 'CAS' drastically shifts the embedding. You can experiment with adding unexpected words and seeing how the embedding changes.\n",
    "\n",
    "graph\n"
   ]
  },
  {
   "cell_type": "markdown",
   "metadata": {},
   "source": [
    "## 4.1 Full Document Context"
   ]
  },
  {
   "cell_type": "code",
   "execution_count": 4,
   "metadata": {},
   "outputs": [],
   "source": [
    "doc_path = \"./docs/portland-site-assessment-phase-1.pdf\"\n",
    "pdf = openparse.Pdf(doc_path)\n",
    "parser = openparse.DocumentParser()\n",
    "parsed_doc = parser.parse(doc_path)\n",
    "\n",
    "full_doc_str = \"\"\n",
    "for node in parsed_doc.nodes:\n",
    "    full_doc_str += f\"<br>{node.text}\"\n",
    "\n",
    "# you can see the output by writing the text to a file, try opening it\n",
    "with open(\"full_doc.md\", \"w\") as f:\n",
    "    f.write(full_doc_str)"
   ]
  },
  {
   "cell_type": "code",
   "execution_count": 5,
   "metadata": {},
   "outputs": [
    {
     "name": "stdout",
     "output_type": "stream",
     "text": [
      "Completion used 18792 tokens costing $0.08\n",
      "Original Question:  Is there lead contamination into the groundwater?\n"
     ]
    },
    {
     "data": {
      "text/markdown": [
       "Yes, the document indicates that there is lead contamination in the groundwater. It states that groundwater concentrations in excess of the DEQ residential, urban residential, and occupational risk-based concentrations (RBCs) for lead, among other contaminants, have been observed on portions of the property at 400 South 1st Street, St. Helens, Oregon. Specifically, lead was detected in three of four locations assessed in the Lathe Area, though it was not detected above RBCs in samples from the Riverside area."
      ],
      "text/plain": [
       "<IPython.core.display.Markdown object>"
      ]
     },
     "execution_count": 5,
     "metadata": {},
     "output_type": "execute_result"
    }
   ],
   "source": [
    "question = \"Is there lead contamination into the groundwater?\"\n",
    "\n",
    "prompt = prompt_template.format(question=question, context=full_doc_str)\n",
    "\n",
    "completion = get_completion(prompt)\n",
    "\n",
    "print(\"Original Question: \", question)\n",
    "completion"
   ]
  }
 ],
 "metadata": {
  "kernelspec": {
   "display_name": ".venv",
   "language": "python",
   "name": "python3"
  },
  "language_info": {
   "codemirror_mode": {
    "name": "ipython",
    "version": 3
   },
   "file_extension": ".py",
   "mimetype": "text/x-python",
   "name": "python",
   "nbconvert_exporter": "python",
   "pygments_lexer": "ipython3",
   "version": "3.12.5"
  }
 },
 "nbformat": 4,
 "nbformat_minor": 2
}
